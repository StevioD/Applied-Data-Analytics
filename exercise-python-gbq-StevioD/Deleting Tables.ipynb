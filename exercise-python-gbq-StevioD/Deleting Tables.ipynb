{
 "cells": [
  {
   "cell_type": "code",
   "execution_count": null,
   "metadata": {},
   "outputs": [],
   "source": [
    "# Do our imports for the code\n",
    "from google.cloud import bigquery\n",
    "from google.oauth2 import service_account"
   ]
  },
  {
   "cell_type": "code",
   "execution_count": null,
   "metadata": {},
   "outputs": [],
   "source": [
    "# These first two values will be different on your machine. \n",
    "service_path = \"C:\\\\users\\\\jchan\\\\dropbox\\\\teaching\\\\\"\n",
    "service_file = 'UMT-MSBA-7b4265df0ca4.json' # this is your authentication information  \n",
    "gbq_proj_id = 'umt-msba'  # change this to your project_id\n",
    "gbq_dataset_id = 'wedge_example' # and change this to your data set ID\n",
    "\n",
    "private_key =service_path + service_file"
   ]
  },
  {
   "cell_type": "code",
   "execution_count": null,
   "metadata": {},
   "outputs": [],
   "source": [
    "# Get your credentials\n",
    "credentials = service_account.Credentials.from_service_account_file(service_path + service_file)\n",
    "\n",
    "# And create a client to talk to GBQ\n",
    "client = bigquery.Client(credentials = credentials, project=gbq_proj_id)"
   ]
  },
  {
   "cell_type": "code",
   "execution_count": null,
   "metadata": {},
   "outputs": [],
   "source": [
    "tables = client.list_tables(gbq_dataset_id)\n",
    "\n",
    "print(\"Tables contained in '{}':\".format(gbq_dataset_id))\n",
    "for table in tables:\n",
    "    print(\"{}.{}.{}\".format(table.project, table.dataset_id, table.table_id))"
   ]
  },
  {
   "cell_type": "code",
   "execution_count": null,
   "metadata": {},
   "outputs": [],
   "source": [
    "tables = client.list_tables(gbq_dataset_id)\n",
    "\n",
    "for table in tables :\n",
    "    # Just want to delete one of my tables!\n",
    "    if table.table_id == \"product_year_month_2014\" :\n",
    "    #if \"small\" in table.table_id :  \n",
    "        \n",
    "        full_table_name = \".\".join([table.project, table.dataset_id, table.table_id])\n",
    "        \n",
    "        client.delete_table(full_table_name, not_found_ok=True)  # Make an API request.\n",
    "        print(\"Deleted table '{}'.\".format(table.table_id))"
   ]
  }
 ],
 "metadata": {
  "kernelspec": {
   "display_name": "Python 3",
   "language": "python",
   "name": "python3"
  },
  "language_info": {
   "codemirror_mode": {
    "name": "ipython",
    "version": 3
   },
   "file_extension": ".py",
   "mimetype": "text/x-python",
   "name": "python",
   "nbconvert_exporter": "python",
   "pygments_lexer": "ipython3",
   "version": "3.7.3"
  }
 },
 "nbformat": 4,
 "nbformat_minor": 4
}
