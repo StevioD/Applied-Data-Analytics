{
 "cells": [
  {
   "cell_type": "markdown",
   "metadata": {},
   "source": [
    "## Python Clustering\n",
    "\n",
    "This notebook does some clustering, making use of `clustering_code.py`, a file of functions taken from Joel's _Data Science from Scratch_. I recommend giving chapter 19 of that book a read as you work through this."
   ]
  },
  {
   "cell_type": "code",
   "execution_count": null,
   "metadata": {},
   "outputs": [],
   "source": [
    "import clustering_code\n",
    "from collections import defaultdict\n",
    "from pprint import pprint\n",
    "\n",
    "input_file = \"survey_responses.txt\""
   ]
  },
  {
   "cell_type": "markdown",
   "metadata": {},
   "source": [
    "Now let's read in the data and put it in a default dictionary."
   ]
  },
  {
   "cell_type": "code",
   "execution_count": null,
   "metadata": {},
   "outputs": [],
   "source": [
    "student_data = defaultdict(list)\n",
    "with open(input_file,'r') as ifile :\n",
    "    next(ifile)\n",
    "    for row in ifile.readlines() :\n",
    "        row = row.strip().split(\"\\t\")\n",
    "        this_student = row[1]\n",
    "        student_data[this_student] = row[2:]\n"
   ]
  },
  {
   "cell_type": "markdown",
   "metadata": {},
   "source": [
    "We need numerical data for clustering, so we'll convert over the Yes/No responses."
   ]
  },
  {
   "cell_type": "code",
   "execution_count": null,
   "metadata": {},
   "outputs": [],
   "source": [
    "# Let's change No to 0 and Yes to 1, so everything is numerical\n",
    "for student in student_data :\n",
    "    this_data = student_data[student] # get the list of data \n",
    "    \n",
    "    for idx, item in enumerate(this_data) : # iterate over the list (and its index)\n",
    "        if item == \"No\" :\n",
    "            this_data[idx] = 0 # change the \"No\" spot to 0\n",
    "        elif item == \"Yes\" :\n",
    "            this_data[idx] = 1 # change the \"Yes\" spot to 1 \n",
    "            \n",
    "    student_data[student] = [float(item) for item in this_data] \n",
    "        # overwrite the old list with the new one. Also make everything numeric\n",
    "            "
   ]
  },
  {
   "cell_type": "code",
   "execution_count": null,
   "metadata": {},
   "outputs": [],
   "source": [
    "# Let's just print the data so it's easier to see\n",
    "pprint(student_data)"
   ]
  },
  {
   "cell_type": "code",
   "execution_count": null,
   "metadata": {},
   "outputs": [],
   "source": [
    "# Now, let's explore some clusters. Try different values of\n",
    "# k and see what emerges\n",
    "\n",
    "k = 3\n",
    "assignments, means = clustering_code.train_dict(student_data, k)\n",
    "\n",
    "\n",
    "# Sorted version\n",
    "s_assign = ( (k ,assignments[k]) for k in sorted(assignments, key=assignments.get, reverse=False))\n",
    "print( str(k) + \"-means:\")\n",
    "for student, cluster in s_assign :\n",
    "    print(str(cluster) + \" : \" + student)\n",
    "\n",
    "print(means)\n",
    "    "
   ]
  },
  {
   "cell_type": "code",
   "execution_count": null,
   "metadata": {},
   "outputs": [],
   "source": [
    "# let's re-scale the two mileage columns so that they're in the range of 0 - 1.\n",
    "miles = []\n",
    "for student, vec in student_data.items() :\n",
    "    miles.append(vec[0])\n",
    "    miles.append(vec[1])\n",
    "\n",
    "max_miles = max(miles)\n",
    "min_miles = min(miles)\n",
    "\n",
    "for student, vec in student_data.items() :\n",
    "    vec[0] = (vec[0] - min_miles)/(max_miles - min_miles)    \n",
    "    vec[1] = (vec[1] - min_miles)/(max_miles - min_miles)    \n",
    "\n"
   ]
  },
  {
   "cell_type": "code",
   "execution_count": null,
   "metadata": {},
   "outputs": [],
   "source": [
    "# Let's make a function that prints the means in a nice way.\n",
    "\n",
    "def pprint_means(the_means) :\n",
    "    var_labels = [\"Birth Dist\",\"Age 15 Dist\",\n",
    "                  \"Post-Secondary\",\"Mkt Major\",\n",
    "                  \"Biz Major\",\"HH Size\"]\n",
    "    for idx, cluster_mean in enumerate(the_means) :\n",
    "        print(\"--- Printing Cluster \" + str(idx) + \" ---\")\n",
    "        \n",
    "        for idx2, item in enumerate(cluster_mean) :\n",
    "            print(\": \".join([var_labels[idx2],str(round(item,2))]))\n",
    "\n",
    "        print(\"----------------------\\n\")\n",
    "            "
   ]
  },
  {
   "cell_type": "code",
   "execution_count": null,
   "metadata": {},
   "outputs": [],
   "source": [
    "k = 5\n",
    "assignments, means = clustering_code.train_dict(student_data, k)\n",
    "\n",
    "#assignments = sorted(assignments.items(),\n",
    "#                     key = lambda (student, cluster) : cluster,\n",
    "#                     reverse = False)\n",
    "\n",
    "s_assign = ( (k ,assignments[k]) for k in sorted(assignments, key=assignments.get, reverse=False))\n",
    "print( str(k) + \"-means:\")\n",
    "for student, cluster in s_assign :\n",
    "    print(str(cluster) + \" : \" + student)\n",
    "\n"
   ]
  },
  {
   "cell_type": "code",
   "execution_count": null,
   "metadata": {},
   "outputs": [],
   "source": [
    "pprint_means(means)"
   ]
  }
 ],
 "metadata": {
  "kernelspec": {
   "display_name": "Python 3",
   "language": "python",
   "name": "python3"
  },
  "language_info": {
   "codemirror_mode": {
    "name": "ipython",
    "version": 3
   },
   "file_extension": ".py",
   "mimetype": "text/x-python",
   "name": "python",
   "nbconvert_exporter": "python",
   "pygments_lexer": "ipython3",
   "version": "3.7.3"
  }
 },
 "nbformat": 4,
 "nbformat_minor": 1
}
