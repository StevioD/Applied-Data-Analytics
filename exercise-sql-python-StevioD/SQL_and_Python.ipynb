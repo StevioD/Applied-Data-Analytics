{
 "cells": [
  {
   "cell_type": "markdown",
   "metadata": {},
   "source": [
    "## Accessing SQL via Python\n",
    "\n",
    "One reason we've been using SQLite databases is because of how well they work with Python. In this exercise we'll create\n",
    "databases, build tables, fill them with data, and write queries. \n",
    "\n",
    "Before you get started, download \"OwnerTransactions_30.txt\" from Moodle. (It's not a good\n",
    "practice to put large data files in a repository.) \n"
   ]
  },
  {
   "cell_type": "code",
   "execution_count": null,
   "metadata": {},
   "outputs": [],
   "source": [
    "import sqlite3\n",
    "\n",
    "input_file = \"OwnerTransactions_30.txt\"\n",
    "\n",
    "# Let's just open the file and read the first few lines to the screen.\n",
    "with open(input_file,'r',encoding=\"Latin-1\") as ifile :\n",
    "    for idx, line in enumerate(ifile) :\n",
    "        print(line.strip().split(\"\\t\"))\n",
    "        if idx > 3 :\n",
    "            break"
   ]
  },
  {
   "cell_type": "markdown",
   "metadata": {},
   "source": [
    "Lots of fields (columns) in these files, most of them should look familiar by now. \n",
    "\n",
    "Let's create a database on your computer first. Change the name to something you like."
   ]
  },
  {
   "cell_type": "code",
   "execution_count": null,
   "metadata": {},
   "outputs": [],
   "source": [
    " db = sqlite3.connect(\"20200914_Wedge.db\")"
   ]
  },
  {
   "cell_type": "markdown",
   "metadata": {},
   "source": [
    "When you're done working with a database, it's best to close your connection to it (if you're not using a `with` block \n",
    "takes care of this for you)."
   ]
  },
  {
   "cell_type": "code",
   "execution_count": null,
   "metadata": {},
   "outputs": [],
   "source": [
    "db.close()"
   ]
  },
  {
   "cell_type": "markdown",
   "metadata": {},
   "source": [
    "Go check out that file in your folder with your favorite SQLite browser. You'll see an empty database with no tables. Let's create a transaction table in there. First, to do that, we need to set up a way to talk to the database. When we're talking to text files we use a filehandle (which we get by calling `open`). To talk to a database we need a cursor. Let's open one up."
   ]
  },
  {
   "cell_type": "code",
   "execution_count": null,
   "metadata": {},
   "outputs": [],
   "source": [
    "cur = db.cursor()"
   ]
  },
  {
   "cell_type": "markdown",
   "metadata": {},
   "source": [
    "Pretty straightforward. Now things get more complicated. Let's make a simple, empty table in the database. "
   ]
  },
  {
   "cell_type": "code",
   "execution_count": null,
   "metadata": {},
   "outputs": [],
   "source": [
    "cur.execute('''DROP TABLE IF EXISTS test_table''')\n",
    "cur.execute('''CREATE TABLE test_table (\n",
    "    first_name TEXT, \n",
    "    last_name TEXT, \n",
    "    age INTEGER,\n",
    "    height REAL)''')"
   ]
  },
  {
   "cell_type": "markdown",
   "metadata": {},
   "source": [
    "Remember from the part of the lecture on temporary tables how we would drop a table before creating it? If you do that and the table doesn't exist, you get an error. That's annoying in this code, so we use the `DROP TABLE IF EXISTS` syntax. Also notice how we use the triple quotes. This isn't necessary, but it allows us to format our SQL the same way we would in the query engine, which makes it more readable. Finally, notice that we have to declare the colume type for each variable. Here are the main types in SQLite:\n",
    "* INTEGER: A signed integer which can be up to 8 bytes ($2^{64}$ = 18,446,744,073,709,551,615)\n",
    "* REAL: A floating point value.\n",
    "* TEXT: A text string.\n",
    "* TIMESTAMP: Not a native type, but you will call datetime functions to get you something that works the way you want it to.\n",
    "\n",
    "Now go look at the DB and you'll see our empty table. Let's put some records in it. "
   ]
  },
  {
   "cell_type": "code",
   "execution_count": null,
   "metadata": {},
   "outputs": [],
   "source": [
    "cur.execute('''INSERT INTO test_table (first_name, last_name, age, height) \n",
    "               VALUES ('John','Chandler',46,6.42)''')"
   ]
  },
  {
   "cell_type": "markdown",
   "metadata": {},
   "source": [
    "Notice the weird syntax. This is just something you have to know is happening when you write insert statements. I typically have to Google it if it's been a while. \n",
    "\n",
    "If you go look at the table, though, you won't see my row. That's because we have to tell the db to _commit_ the changes. Commit has a technical definition, but you can think of it as just making the change official."
   ]
  },
  {
   "cell_type": "code",
   "execution_count": null,
   "metadata": {},
   "outputs": [],
   "source": [
    "db.commit()"
   ]
  },
  {
   "cell_type": "markdown",
   "metadata": {},
   "source": [
    "In general you can just commit changes when you're doing working on a table and usually be fine. (Particularly if you're the only person using a DB.)\n",
    "\n",
    "If you run the above two cells a few times, you can add multiple of my records to the DB. Feel free to do that.\n",
    "\n",
    "Typing in records is lame. Let's use a list of lists do it. "
   ]
  },
  {
   "cell_type": "code",
   "execution_count": null,
   "metadata": {},
   "outputs": [],
   "source": [
    "people = [[\"Ben\",\"Chandler\",40,6.14],\n",
    "          [\"Davis\",\"Chandler\",38,5.5],\n",
    "          [\"Martha\",\"Chandler\",77,5.67],\n",
    "          [\"Beth\",\"Tanis\",65,5.7]]\n",
    "\n",
    "# SQLite3 gives you a fast way to put all these records in.\n",
    "cur.executemany('''INSERT INTO test_table (first_name, last_name, age, height) \n",
    "                   VALUES (?,?,?,?)''',people)\n",
    "db.commit()"
   ]
  },
  {
   "cell_type": "markdown",
   "metadata": {},
   "source": [
    "Again, some weird syntax, but it is what it is. The handy function `executemany` can take any iterable in the \n",
    "second argument. As long as the \"shape\" of that second argument is correct, this will fill up your table. \n",
    "\n",
    "Note that you have to hit \"refresh\" on your DB or close and open it to see the changes you've committed. \n",
    "\n",
    "\n",
    "Now let's get rid of that goofy table. "
   ]
  },
  {
   "cell_type": "code",
   "execution_count": null,
   "metadata": {},
   "outputs": [],
   "source": [
    "cur.execute(\"DROP TABLE test_table\")\n",
    "db.commit()"
   ]
  },
  {
   "cell_type": "markdown",
   "metadata": {},
   "source": [
    "And, lo, our table is gone. If we wanted to we could now call `db.close()` and be done with it. We'll keep it open so we can put our transactions table in it.\n",
    "\n",
    "### Working with the Wedge Data\n",
    "These transaction tables are pretty massive, so I'm going to give you a version of the code that will build the table. Let the record reflect I'm saving you a bunch of tedious typing and error checking."
   ]
  },
  {
   "cell_type": "code",
   "execution_count": null,
   "metadata": {},
   "outputs": [],
   "source": [
    "cur.execute('''DROP TABLE IF EXISTS transactions''')\n",
    "cur.execute('''CREATE TABLE transactions (\n",
    "    datetime TIMESTAMP,\n",
    "    register_no INTEGER,\n",
    "    emp_no INTEGER,\n",
    "    trans_no INTEGER,\n",
    "    upc INTEGER,\n",
    "    description TEXT,\n",
    "    trans_type TEXT,\n",
    "    trans_subtype TEXT,\n",
    "    trans_status TEXT,\n",
    "    department INTEGER,\n",
    "    quantity REAL,\n",
    "    Scale INTEGER,\n",
    "    cost REAL,\n",
    "    unitPrice REAL,\n",
    "    total REAL,\n",
    "    regPrice REAL,\n",
    "    altPrice REAL,\n",
    "    tax INTEGER,\n",
    "    taxexempt INTEGER,\n",
    "    foodstamp INTEGER,\n",
    "    wicable INTEGER,\n",
    "    discount REAL,\n",
    "    memDiscount REAL,\n",
    "    discountable INTEGER,\n",
    "    discounttype INTEGER,\n",
    "    voided INTEGER,\n",
    "    percentDiscount REAL,\n",
    "    ItemQtty REAL,\n",
    "    volDiscType INTEGER,\n",
    "    volume INTEGER,\n",
    "    VolSpecial REAL,\n",
    "    mixMatch INTEGER,\n",
    "    matched INTEGER,\n",
    "    memType INTEGER,\n",
    "    staff INTEGER,\n",
    "    numflag INTEGER,\n",
    "    itemstatus INTEGER,\n",
    "    tenderstatus INTEGER,\n",
    "    charflag TEXT,\n",
    "    varflag INTEGER,\n",
    "    batchHeaderID INTEGER,\n",
    "    local INTEGER,\n",
    "    organic INTEGER,\n",
    "    display INTEGER,\n",
    "    receipt INTEGER,\n",
    "    card_no INTEGER,\n",
    "    store INTEGER,\n",
    "    branch INTEGER,\n",
    "    match_id INTEGER,\n",
    "    trans_id INTEGER)''')"
   ]
  },
  {
   "cell_type": "markdown",
   "metadata": {},
   "source": [
    "You can commit that table if you want. Just hit the \"a\" key when you're in command mode (hit escape to make _sure_ you're in command mode if you don't know the difference between command and edit modes.) Then just type in the commit command and you'll see the table. \n",
    "\n",
    "Now let's fill up the table with a few dozen transaction rows just to see it in action. We are going to use our file reader we used above."
   ]
  },
  {
   "cell_type": "code",
   "execution_count": null,
   "metadata": {},
   "outputs": [],
   "source": [
    "with open(input_file,'r', encoding=\"Latin-1\") as ifile :\n",
    "    for idx, line in enumerate(ifile) :\n",
    "        line = line.strip().split(\"\\t\")\n",
    "        cur.execute('''\n",
    "            INSERT INTO transactions (datetime,register_no,emp_no,\n",
    "              trans_no,upc,description,trans_type,trans_subtype,\n",
    "              trans_status,department,quantity,Scale,cost,unitPrice,\n",
    "              total,regPrice,altPrice,tax,taxexempt,foodstamp,wicable,\n",
    "              discount,memDiscount,discountable,discounttype,voided,percentDiscount,\n",
    "              ItemQtty,volDiscType,volume,\n",
    "              VolSpecial,mixMatch,matched,memType,staff,numflag,itemstatus,tenderstatus,\n",
    "              charflag,varflag,batchHeaderID,local,organic,display,receipt,\n",
    "              card_no,store,branch,match_id,trans_id)\n",
    "            VALUES (?,?,?,?,?,?,?,?,?,?,?,?,?,?,?,?,?,\n",
    "            ?,?,?,?,?,?,?,?,?,?,?,?,?,?,?,?,?,?,?,?,\n",
    "            ?,?,?,?,?,?,?,?,?,?,?,?,?)''', line)\n",
    "\n",
    "        \n",
    "        if idx > 100 :\n",
    "            break\n",
    "\n",
    "db.commit()"
   ]
  },
  {
   "cell_type": "markdown",
   "metadata": {},
   "source": [
    "Now go check out the database and you'll see our table with the transactions in there. But you'll also see the headers. We want to skip that row and we can use the `next` function to do it. First, though, let's delete the records from that table to clean it up."
   ]
  },
  {
   "cell_type": "code",
   "execution_count": null,
   "metadata": {},
   "outputs": [],
   "source": [
    "cur.execute(\"DELETE FROM transactions\")\n",
    "db.commit()"
   ]
  },
  {
   "cell_type": "code",
   "execution_count": null,
   "metadata": {},
   "outputs": [],
   "source": [
    "with open(input_file,'r',encoding=\"Latin-1\") as ifile :\n",
    "    next(ifile) # <- This is new--it advances the file reader one line. \n",
    "    for idx, line in enumerate(ifile.readlines()) :\n",
    "        line = line.strip().split(\"\\t\")\n",
    "        cur.execute('''\n",
    "            INSERT INTO transactions (datetime,register_no,emp_no,\n",
    "              trans_no,upc,description,trans_type,trans_subtype,\n",
    "              trans_status,department,quantity,Scale,cost,unitPrice,\n",
    "              total,regPrice,altPrice,tax,taxexempt,foodstamp,wicable,\n",
    "              discount,memDiscount,discountable,discounttype,voided,percentDiscount,\n",
    "              ItemQtty,volDiscType,volume,\n",
    "              VolSpecial,mixMatch,matched,memType,staff,numflag,itemstatus,tenderstatus,\n",
    "              charflag,varflag,batchHeaderID,local,organic,display,receipt,\n",
    "              card_no,store,branch,match_id,trans_id)\n",
    "            VALUES (?,?,?,?,?,?,?,?,?,?,?,?,?,?,?,?,?,\n",
    "            ?,?,?,?,?,?,?,?,?,?,?,?,?,?,?,?,?,?,?,?,\n",
    "            ?,?,?,?,?,?,?,?,?,?,?,?,?)''', line)\n",
    "\n",
    "        \n",
    "        if idx > 100 :\n",
    "            break\n",
    "\n",
    "db.commit()"
   ]
  },
  {
   "cell_type": "markdown",
   "metadata": {},
   "source": [
    "Play around running those cells and the create-table cell until you get a clean one hundred rows. Now let's write a query and see what we get back."
   ]
  },
  {
   "cell_type": "code",
   "execution_count": null,
   "metadata": {},
   "outputs": [],
   "source": [
    "result = cur.execute('''SELECT card_no,\n",
    "                               date(datetime) as date,\n",
    "                               sum(total) AS spend\n",
    "                        FROM transactions\n",
    "                        WHERE trans_type = \"I\"\n",
    "                        GROUP BY card_no, date\n",
    "                        ''')\n",
    "print(list(result)) # Note that we need to call list to *force* Python to evaluate the iterable here and print it."
   ]
  },
  {
   "cell_type": "markdown",
   "metadata": {},
   "source": [
    "Okay, that was fun. Now let's run it for real, filling up the table with our entire file. We'll start from scratch here so we get a clean table."
   ]
  },
  {
   "cell_type": "code",
   "execution_count": null,
   "metadata": {},
   "outputs": [],
   "source": [
    "cur.execute('''DROP TABLE IF EXISTS transactions''')\n",
    "cur.execute('''CREATE TABLE transactions (\n",
    "    datetime TIMESTAMP,\n",
    "    register_no INTEGER,\n",
    "    emp_no INTEGER,\n",
    "    trans_no INTEGER,\n",
    "    upc INTEGER,\n",
    "    description TEXT,\n",
    "    trans_type TEXT,\n",
    "    trans_subtype TEXT,\n",
    "    trans_status TEXT,\n",
    "    department INTEGER,\n",
    "    quantity REAL,\n",
    "    Scale INTEGER,\n",
    "    cost REAL,\n",
    "    unitPrice REAL,\n",
    "    total REAL,\n",
    "    regPrice REAL,\n",
    "    altPrice REAL,\n",
    "    tax INTEGER,\n",
    "    taxexempt INTEGER,\n",
    "    foodstamp INTEGER,\n",
    "    wicable INTEGER,\n",
    "    discount REAL,\n",
    "    memDiscount REAL,\n",
    "    discountable INTEGER,\n",
    "    discounttype INTEGER,\n",
    "    voided INTEGER,\n",
    "    percentDiscount REAL,\n",
    "    ItemQtty REAL,\n",
    "    volDiscType INTEGER,\n",
    "    volume INTEGER,\n",
    "    VolSpecial REAL,\n",
    "    mixMatch INTEGER,\n",
    "    matched INTEGER,\n",
    "    memType INTEGER,\n",
    "    staff INTEGER,\n",
    "    numflag INTEGER,\n",
    "    itemstatus INTEGER,\n",
    "    tenderstatus INTEGER,\n",
    "    charflag TEXT,\n",
    "    varflag INTEGER,\n",
    "    batchHeaderID INTEGER,\n",
    "    local INTEGER,\n",
    "    organic INTEGER,\n",
    "    display INTEGER,\n",
    "    receipt INTEGER,\n",
    "    card_no INTEGER,\n",
    "    store INTEGER,\n",
    "    branch INTEGER,\n",
    "    match_id INTEGER,\n",
    "    trans_id INTEGER)''')\n",
    "\n",
    "with open(input_file,'r', encoding=\"Latin-1\") as ifile :\n",
    "    next(ifile)\n",
    "    for idx, line in enumerate(ifile.readlines()) :\n",
    "        line = line.strip().split(\"\\t\")\n",
    "        cur.execute('''\n",
    "            INSERT INTO transactions (datetime,register_no,emp_no,\n",
    "              trans_no,upc,description,trans_type,trans_subtype,\n",
    "              trans_status,department,quantity,Scale,cost,unitPrice,\n",
    "              total,regPrice,altPrice,tax,taxexempt,foodstamp,wicable,\n",
    "              discount,memDiscount,discountable,discounttype,voided,percentDiscount,\n",
    "              ItemQtty,volDiscType,volume,\n",
    "              VolSpecial,mixMatch,matched,memType,staff,numflag,itemstatus,tenderstatus,\n",
    "              charflag,varflag,batchHeaderID,local,organic,display,receipt,\n",
    "              card_no,store,branch,match_id,trans_id)\n",
    "            VALUES (?,?,?,?,?,?,?,?,?,?,?,?,?,?,?,?,?,\n",
    "            ?,?,?,?,?,?,?,?,?,?,?,?,?,?,?,?,?,?,?,?,\n",
    "            ?,?,?,?,?,?,?,?,?,?,?,?,?)''', line)\n",
    "\n",
    "        #if idx > 100 :\n",
    "        #    break\n",
    "\n",
    "db.commit()"
   ]
  },
  {
   "cell_type": "markdown",
   "metadata": {},
   "source": [
    "And now let's run our query again and print out the results in a prettier fashion."
   ]
  },
  {
   "cell_type": "code",
   "execution_count": null,
   "metadata": {},
   "outputs": [],
   "source": [
    "result = cur.execute('''SELECT card_no,\n",
    "                               date(datetime) as date,\n",
    "                               sum(total) AS spend\n",
    "                        FROM transactions\n",
    "                        WHERE trans_type = \"I\"\n",
    "                        GROUP BY card_no, date\n",
    "                        ''')"
   ]
  },
  {
   "cell_type": "code",
   "execution_count": null,
   "metadata": {},
   "outputs": [],
   "source": [
    "for idx,row in enumerate(result) :\n",
    "    print(\"On {0}, card_no = {1} spent {2:,.2f}.\".format(row[0],row[1],row[2]))\n",
    "    if idx > 20 :\n",
    "        break"
   ]
  },
  {
   "cell_type": "markdown",
   "metadata": {},
   "source": [
    "---\n",
    "\n",
    "Before we go further, I'd like to warn you about one of the biggest issues in working with SQLite DBs: having a typo\n",
    "in your database name. (Can you spot the typo below?) Imagine you're trying to connect to your database and you type something like this:"
   ]
  },
  {
   "cell_type": "code",
   "execution_count": null,
   "metadata": {},
   "outputs": [],
   "source": [
    "db = sqlite3.connect(\"20020914_Wedge.db\")\n",
    "cur = db.cursor()\n",
    "\n",
    "cur.execute(\"SELECT COUNT(*) FROM transactions\")"
   ]
  },
  {
   "cell_type": "markdown",
   "metadata": {},
   "source": [
    "Q: What happened?\n",
    "\n",
    "A: Since we had a typo in the DB name, Python ended up creating a _new_ database with this new name. Since that database\n",
    "doesn't have any tables in it, you can't query from them. This is a common source of bugs and errors. Beware! Also, \n",
    "notice that you've created a spurious database file in your folder. Delete this before moving on. "
   ]
  },
  {
   "cell_type": "markdown",
   "metadata": {},
   "source": [
    "--- \n",
    "\n",
    "Okay, now back to our regularly scheduled program. Here's where we were before."
   ]
  },
  {
   "cell_type": "code",
   "execution_count": null,
   "metadata": {},
   "outputs": [],
   "source": [
    "result = cur.execute('''SELECT card_no,\n",
    "                               date(datetime) as date,\n",
    "                               sum(total) AS spend\n",
    "                        FROM transactions\n",
    "                        WHERE trans_type = \"I\"\n",
    "                        GROUP BY card_no, date\n",
    "                        ''')\n",
    "\n",
    "\n",
    "for idx,row in enumerate(result) :\n",
    "    print(\"On {0}, card_no = {1} spent {2:,.2f}.\".format(row[0],row[1],row[2]))\n",
    "    if idx > 20 :\n",
    "        break"
   ]
  },
  {
   "cell_type": "markdown",
   "metadata": {},
   "source": [
    "If you play around with this you'll notice that it keeps grabbing new rows. This is because the cursor, like the file reader, is iterating over the results set returned from the DB. \n",
    "\n",
    "Again, because this table is unusally complicated, I'm going to hook you up with a complicated query written by a former student, Jason Kolberg, who is great with SQL. This query does some nice things for you:\n",
    "\n",
    "* Sums `total` as spend to get your spending information. Notice that it's handling a lot of tricky `trans_status` stuff. \n",
    "* Counts up the transactions using this crazy, but accurate, concatentation. Look up the `||` operator in SQLite\n",
    "* Correctly handles voids and returns to count up the number of items purchased. \n",
    "\n",
    "In this case we're getting those metrics by card_no, department, year and month. "
   ]
  },
  {
   "cell_type": "code",
   "execution_count": null,
   "metadata": {},
   "outputs": [],
   "source": [
    "result = cur.execute('''SELECT card_no,\n",
    "                                   department,\n",
    "                                   substr(date(datetime),1,4) AS year,\n",
    "                                   substr(date(datetime),6,2) AS month,\n",
    "                                   sum(total) AS spend,\n",
    "                                   count(distinct(date(datetime) || register_no ||\n",
    "                                           emp_no || trans_no)) as Transactions,\n",
    "                                   sum(CASE WHEN (trans_status = 'V' or trans_status = 'R') THEN -1 ELSE 1 END) as Items\n",
    "                                   FROM transactions\n",
    "                                   WHERE department != 0 and\n",
    "                                        department != 15 and\n",
    "                                        trans_status != 'M' and\n",
    "                                        trans_status != 'C' and\n",
    "                                        trans_status != 'J' and\n",
    "                                       (trans_status = '' or \n",
    "                                        trans_status = ' ' or \n",
    "                                        trans_status = 'V' or \n",
    "                                        trans_status = 'R')\n",
    "                          GROUP BY card_no, department, year, month''')"
   ]
  },
  {
   "cell_type": "code",
   "execution_count": null,
   "metadata": {},
   "outputs": [],
   "source": [
    "for idx,row in enumerate(result) :\n",
    "    print(row)\n",
    "    if idx > 10 :\n",
    "        break"
   ]
  },
  {
   "cell_type": "markdown",
   "metadata": {},
   "source": [
    "Play around with the query and the results and see if you can figure out what is happening with this query. Now let's close this DB. It's a good idea to save it, because it gives you a place to test queries."
   ]
  },
  {
   "cell_type": "code",
   "execution_count": null,
   "metadata": {},
   "outputs": [],
   "source": [
    "db.close()"
   ]
  },
  {
   "cell_type": "markdown",
   "metadata": {},
   "source": [
    "## Building a DB in Memory\n",
    "This section sounds really complicated, but it's actually not too bad. You may find as you're working with the Wedge data that you need to run lots of queries against different transaction files. It's a hassle to keep putting these on a DB that exists on disc just to overwrite it on the next iteration. The following cell does everything we just did, but builds the DB in memory."
   ]
  },
  {
   "cell_type": "code",
   "execution_count": null,
   "metadata": {},
   "outputs": [],
   "source": [
    "#%%timeit # uncomment to test the execution time of the cell\n",
    "db = sqlite3.connect(':memory:') # this is the only change!\n",
    "cur = db.cursor()\n",
    "    \n",
    "cur.execute('''DROP TABLE IF EXISTS transactions''')\n",
    "cur.execute('''CREATE TABLE transactions (\n",
    "    datetime TIMESTAMP,\n",
    "    register_no INTEGER,\n",
    "    emp_no INTEGER,\n",
    "    trans_no INTEGER,\n",
    "    upc INTEGER,\n",
    "    description TEXT,\n",
    "    trans_type TEXT,\n",
    "    trans_subtype TEXT,\n",
    "    trans_status TEXT,\n",
    "    department INTEGER,\n",
    "    quantity REAL,\n",
    "    Scale INTEGER,\n",
    "    cost REAL,\n",
    "    unitPrice REAL,\n",
    "    total REAL,\n",
    "    regPrice REAL,\n",
    "    altPrice REAL,\n",
    "    tax INTEGER,\n",
    "    taxexempt INTEGER,\n",
    "    foodstamp INTEGER,\n",
    "    wicable INTEGER,\n",
    "    discount REAL,\n",
    "    memDiscount REAL,\n",
    "    discountable INTEGER,\n",
    "    discounttype INTEGER,\n",
    "    voided INTEGER,\n",
    "    percentDiscount REAL,\n",
    "    ItemQtty REAL,\n",
    "    volDiscType INTEGER,\n",
    "    volume INTEGER,\n",
    "    VolSpecial REAL,\n",
    "    mixMatch INTEGER,\n",
    "    matched INTEGER,\n",
    "    memType INTEGER,\n",
    "    staff INTEGER,\n",
    "    numflag INTEGER,\n",
    "    itemstatus INTEGER,\n",
    "    tenderstatus INTEGER,\n",
    "    charflag TEXT,\n",
    "    varflag INTEGER,\n",
    "    batchHeaderID INTEGER,\n",
    "    local INTEGER,\n",
    "    organic INTEGER,\n",
    "    display INTEGER,\n",
    "    receipt INTEGER,\n",
    "    card_no INTEGER,\n",
    "    store INTEGER,\n",
    "    branch INTEGER,\n",
    "    match_id INTEGER,\n",
    "    trans_id INTEGER)''')\n",
    "\n",
    "with open(input_file,'r',encoding=\"Latin-1\") as ifile :\n",
    "    next(ifile)\n",
    "    for idx, line in enumerate(ifile.readlines()) :\n",
    "        line = line.strip().split(\"\\t\")\n",
    "        cur.execute('''\n",
    "            INSERT INTO transactions (datetime,register_no,emp_no,\n",
    "              trans_no,upc,description,trans_type,trans_subtype,\n",
    "              trans_status,department,quantity,Scale,cost,unitPrice,\n",
    "              total,regPrice,altPrice,tax,taxexempt,foodstamp,wicable,\n",
    "              discount,memDiscount,discountable,discounttype,voided,percentDiscount,\n",
    "              ItemQtty,volDiscType,volume,\n",
    "              VolSpecial,mixMatch,matched,memType,staff,numflag,itemstatus,tenderstatus,\n",
    "              charflag,varflag,batchHeaderID,local,organic,display,receipt,\n",
    "              card_no,store,branch,match_id,trans_id)\n",
    "            VALUES (?,?,?,?,?,?,?,?,?,?,?,?,?,?,?,?,?,\n",
    "            ?,?,?,?,?,?,?,?,?,?,?,?,?,?,?,?,?,?,?,?,\n",
    "            ?,?,?,?,?,?,?,?,?,?,?,?,?)''', line)\n",
    "    \n",
    "db.commit() # Best practice, but not required here\n",
    "\n",
    "result = cur.execute('''SELECT card_no,\n",
    "                                   department,\n",
    "                                   substr(date(datetime),1,4) AS year,\n",
    "                                   substr(date(datetime),6,2) AS month,\n",
    "                                   sum(total) AS spend,\n",
    "                                   count(distinct(date(datetime) || register_no ||\n",
    "                                           emp_no || trans_no)) as Transactions,\n",
    "                                   sum(CASE WHEN (trans_status = 'V' or trans_status = 'R') THEN -1 ELSE 1 END) as Items\n",
    "                                   FROM transactions\n",
    "                                   WHERE department != 0 and\n",
    "                                        department != 15 and\n",
    "                                        trans_status != 'M' and\n",
    "                                        trans_status != 'C' and\n",
    "                                        trans_status != 'J' and\n",
    "                                       (trans_status = '' or \n",
    "                                        trans_status = ' ' or \n",
    "                                        trans_status = 'V' or \n",
    "                                        trans_status = 'R')\n",
    "                          GROUP BY card_no, department, year, month''')\n",
    "\n",
    "for idx,row in enumerate(result) :\n",
    "    print(row)\n",
    "    if idx > 10 :\n",
    "        break\n",
    "        \n",
    "db.close()"
   ]
  },
  {
   "cell_type": "markdown",
   "metadata": {},
   "source": [
    "It may be hard to tell, but this runs about 33% faster. Plus, no annoying files to clean up. "
   ]
  }
 ],
 "metadata": {
  "kernelspec": {
   "display_name": "Python 3 (ipykernel)",
   "language": "python",
   "name": "python3"
  },
  "language_info": {
   "codemirror_mode": {
    "name": "ipython",
    "version": 3
   },
   "file_extension": ".py",
   "mimetype": "text/x-python",
   "name": "python",
   "nbconvert_exporter": "python",
   "pygments_lexer": "ipython3",
   "version": "3.8.8"
  }
 },
 "nbformat": 4,
 "nbformat_minor": 1
}
