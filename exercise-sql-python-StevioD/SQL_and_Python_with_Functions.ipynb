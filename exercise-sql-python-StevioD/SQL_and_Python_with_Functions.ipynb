{
 "cells": [
  {
   "cell_type": "markdown",
   "metadata": {},
   "source": [
    "## Accessing SQL via Python\n",
    "In this continuation of the non-function notebook, we show how to wrap the DB functions in a library to create a more scalable way to use our code. \n",
    "\n",
    "We start by reading in the file as before. Note the import of our `wedge_helper` library, which is stored in a file with that same name and the extension `py`. Open that file up (maybe in Spyder?) so that you can see what's inside."
   ]
  },
  {
   "cell_type": "code",
   "execution_count": null,
   "metadata": {},
   "outputs": [],
   "source": [
    "import sqlite3\n",
    "from wedge_helper import *\n",
    "\n",
    "input_file = \"OwnerTransactions_30.txt\"\n",
    "\n",
    "# Let's just open the file and read the first few lines to the screen.\n",
    "with open(input_file,'r',encoding=\"Latin-1\") as ifile :\n",
    "    for idx, line in enumerate(ifile.readlines()) :\n",
    "        print(line.strip().split(\"\\t\"))\n",
    "        if idx > 3 :\n",
    "            break"
   ]
  },
  {
   "cell_type": "markdown",
   "metadata": {},
   "source": [
    "Let's do our standard open the DB in memory and create a cursor."
   ]
  },
  {
   "cell_type": "code",
   "execution_count": null,
   "metadata": {},
   "outputs": [],
   "source": [
    "db = sqlite3.connect(\"change_me.db\") #':memory:') # Make this a directory + file if you want to store the results.\n",
    "cur = db.cursor()\n",
    "\n",
    "init_db(cur) # take a look at the .py file to see what happened here."
   ]
  },
  {
   "cell_type": "code",
   "execution_count": null,
   "metadata": {},
   "outputs": [],
   "source": [
    "with open(input_file,'r') as ifile :\n",
    "    populate_db(db,ifile,delimiter=\"\\t\",limit=None)"
   ]
  },
  {
   "cell_type": "markdown",
   "metadata": {},
   "source": [
    "And now let's run a query and print out the results in a semi-pretty fashion. Check out [this page](https://docs.python.org/3.2/library/string.html#format-specification-mini-language) to learn more about the formatting tricks."
   ]
  },
  {
   "cell_type": "code",
   "execution_count": null,
   "metadata": {},
   "outputs": [],
   "source": [
    "result = cur.execute('''SELECT card_no,\n",
    "                               date(datetime) as date,\n",
    "                               sum(total) AS spend\n",
    "                        FROM transactions\n",
    "                        WHERE trans_type = \"I\"\n",
    "                        GROUP BY card_no, date\n",
    "                        ''')\n",
    "\n",
    "for idx,row in enumerate(result) :\n",
    "    print(\"On {1}, card_no = {0} spent {2:,.2f}.\".format(row[0],row[1],row[2]))\n",
    "    if idx > 20 :\n",
    "        break"
   ]
  },
  {
   "cell_type": "markdown",
   "metadata": {},
   "source": [
    "Now let's return to our big query from the other notebook."
   ]
  },
  {
   "cell_type": "code",
   "execution_count": null,
   "metadata": {},
   "outputs": [],
   "source": [
    "result = cur.execute('''SELECT card_no,\n",
    "                                   department,\n",
    "                                   substr(date(datetime),1,4) AS year,\n",
    "                                   substr(date(datetime),6,2) AS month,\n",
    "                                   sum(total) AS spend,\n",
    "                                   count(distinct(date(datetime) || register_no ||\n",
    "                                           emp_no || trans_no)) as Transactions,\n",
    "                                   sum(CASE WHEN (trans_status = 'V' or trans_status = 'R') THEN -1 ELSE 1 END) as Items\n",
    "                                   FROM transactions\n",
    "                                   WHERE department != 0 and\n",
    "                                        department != 15 and\n",
    "                                        trans_status != 'M' and\n",
    "                                        trans_status != 'C' and\n",
    "                                        trans_status != 'J' and\n",
    "                                       (trans_status = '' or \n",
    "                                        trans_status = ' ' or \n",
    "                                        trans_status = 'V' or \n",
    "                                        trans_status = 'R') and card_no = 18736\n",
    "                          GROUP BY card_no, department, year, month\n",
    "                          ORDER BY year, month''')"
   ]
  },
  {
   "cell_type": "code",
   "execution_count": null,
   "metadata": {},
   "outputs": [],
   "source": [
    "for row in result :\n",
    "    print(row)"
   ]
  },
  {
   "cell_type": "code",
   "execution_count": null,
   "metadata": {},
   "outputs": [],
   "source": [
    "for idx,row in enumerate(result) :\n",
    "    print(row)\n",
    "    if idx > 10 :\n",
    "        break"
   ]
  },
  {
   "cell_type": "markdown",
   "metadata": {},
   "source": [
    "Run the cell below as a best practice, but the DB will close if you quit the notebook. If it's an in-memory DB then it's also gone!"
   ]
  },
  {
   "cell_type": "code",
   "execution_count": null,
   "metadata": {},
   "outputs": [],
   "source": [
    "db.close()"
   ]
  }
 ],
 "metadata": {
  "kernelspec": {
   "display_name": "Python 3",
   "language": "python",
   "name": "python3"
  },
  "language_info": {
   "codemirror_mode": {
    "name": "ipython",
    "version": 3
   },
   "file_extension": ".py",
   "mimetype": "text/x-python",
   "name": "python",
   "nbconvert_exporter": "python",
   "pygments_lexer": "ipython3",
   "version": "3.7.3"
  }
 },
 "nbformat": 4,
 "nbformat_minor": 1
}
